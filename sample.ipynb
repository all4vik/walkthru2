{
 "cells": [
  {
   "cell_type": "markdown",
   "id": "d0aab34a-f121-46b7-9ca6-43b8ecf4baba",
   "metadata": {},
   "source": [
    "## Walktru sample notebook\n"
   ]
  },
  {
   "cell_type": "markdown",
   "id": "968a194a-d336-4dc9-acee-395498fff29a",
   "metadata": {},
   "source": [
    "Here is how i calculate `1+1`:"
   ]
  },
  {
   "cell_type": "code",
   "execution_count": 2,
   "id": "684d0274-efb9-47e2-b15c-f900b67e7f08",
   "metadata": {},
   "outputs": [
    {
     "data": {
      "text/plain": [
       "2"
      ]
     },
     "execution_count": 2,
     "metadata": {},
     "output_type": "execute_result"
    }
   ],
   "source": [
    "1+1"
   ]
  },
  {
   "cell_type": "code",
   "execution_count": 3,
   "id": "9cae4636-094d-4a86-8e9e-31a663e33f6d",
   "metadata": {},
   "outputs": [],
   "source": [
    "from numpy import *"
   ]
  },
  {
   "cell_type": "markdown",
   "id": "5782e9d8-7838-4e30-b82a-e86556fdf9b0",
   "metadata": {},
   "source": [
    "Here is how i calculaate `sin`:"
   ]
  },
  {
   "cell_type": "code",
   "execution_count": 4,
   "id": "cea4362d-022e-49a0-8269-1adf1320d97f",
   "metadata": {},
   "outputs": [
    {
     "data": {
      "text/plain": [
       "array([0.84147098, 1.        ])"
      ]
     },
     "execution_count": 4,
     "metadata": {},
     "output_type": "execute_result"
    }
   ],
   "source": [
    "a = array ([1.0, pi/2])\n",
    "sin(a)"
   ]
  },
  {
   "cell_type": "code",
   "execution_count": null,
   "id": "8e790d17-7952-4636-ba22-20574f6c027e",
   "metadata": {},
   "outputs": [],
   "source": []
  }
 ],
 "metadata": {
  "kernelspec": {
   "display_name": "Python 3 (ipykernel)",
   "language": "python",
   "name": "python3"
  },
  "language_info": {
   "codemirror_mode": {
    "name": "ipython",
    "version": 3
   },
   "file_extension": ".py",
   "mimetype": "text/x-python",
   "name": "python",
   "nbconvert_exporter": "python",
   "pygments_lexer": "ipython3",
   "version": "3.10.12"
  }
 },
 "nbformat": 4,
 "nbformat_minor": 5
}
